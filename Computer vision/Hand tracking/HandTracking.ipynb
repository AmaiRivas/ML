{
 "cells": [
  {
   "cell_type": "markdown",
   "metadata": {},
   "source": [
    "# Hand tracking tutorial using Mediapipe (from Google) and OpenCv\n",
    "\n",
    "First of all, you need to create a python 3.7 environment\n",
    "\n",
    "To do that you can use venv:\n",
    "\n"
   ]
  }
 ],
 "metadata": {
  "language_info": {
   "name": "python"
  }
 },
 "nbformat": 4,
 "nbformat_minor": 2
}
