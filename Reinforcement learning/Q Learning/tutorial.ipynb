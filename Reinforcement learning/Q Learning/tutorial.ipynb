{
 "cells": [
  {
   "cell_type": "markdown",
   "metadata": {},
   "source": [
    "We start by creating an environment using virtualenv:\n",
    "pip install virtualenv\n",
    "\n",
    "Install python 3.7 from the website\n",
    "\n",
    "virtualenv -p python3.7 pygame_env\n",
    "\n",
    "source pygame_env/bin/activate\n",
    "\n",
    "pip install pygame\n",
    "\n",
    "Go to pytorch.org/get-started/locally, and configure the local installer, my outputed command was:\n",
    "pip3 install torch torchvision\n",
    "\n",
    "pip install matplotlib ipython\n",
    "\n",
    "pip install numpy\n",
    "\n",
    "\n"
   ]
  }
 ],
 "metadata": {
  "language_info": {
   "name": "python"
  }
 },
 "nbformat": 4,
 "nbformat_minor": 2
}
